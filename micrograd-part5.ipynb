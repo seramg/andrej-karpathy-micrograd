{
 "cells": [
  {
   "cell_type": "code",
   "execution_count": 2,
   "metadata": {},
   "outputs": [],
   "source": [
    "import math\n",
    "import numpy as np\n",
    "import matplotlib.pyplot as plt\n",
    "%matplotlib inline"
   ]
  },
  {
   "cell_type": "code",
   "execution_count": 3,
   "metadata": {},
   "outputs": [],
   "source": [
    "from graphviz import Digraph\n",
    "def trace(root):\n",
    "    nodes, edges = set(), set()\n",
    "    def build(v):\n",
    "        if v not in nodes:\n",
    "            nodes.add(v)\n",
    "            for child in v._prev:\n",
    "                edges.add((child, v)) # creating edge between child and node\n",
    "                build(child)\n",
    "    build(root)\n",
    "    return nodes, edges\n",
    "\n",
    "def draw_dot(root):\n",
    "    dot = Digraph(format = 'svg', graph_attr = {'rankdir':'LR'}) # left to right\n",
    "    nodes, edges = trace(root)\n",
    "    for n in nodes:\n",
    "        uid = str(id(n))\n",
    "        # for any value in graph, create a rectangular node for it\n",
    "        dot.node(name = uid , label = \"{ %s | data %.4f | grad %.4f }\" % (n.label, n.data, n.grad), shape = 'record')\n",
    "        if n._op:\n",
    "            # if this value is a result of some operation, create an op node that is a oval one\n",
    "            dot.node(name = uid + n._op, label = n._op)\n",
    "            # and connect this node to it\n",
    "            dot.edge(uid + n._op, uid)\n",
    "            \n",
    "    for n1, n2 in edges:\n",
    "        # connect n1 to the op node of n2\n",
    "        dot.edge(str(id(n1)), str(id(n2)) + n2._op)\n",
    "        \n",
    "    return dot"
   ]
  },
  {
   "cell_type": "code",
   "execution_count": 4,
   "metadata": {},
   "outputs": [],
   "source": [
    "class Value:\n",
    "    def __init__(self, data, _children=(), _op = ' ', label = ''):\n",
    "        self.data = data\n",
    "        self.grad = 0.0\n",
    "        self._backward = lambda:None #empty function like a leaf node\n",
    "        self._prev = set(_children)\n",
    "        self._op = _op\n",
    "        self.label = label\n",
    "        \n",
    "    def __repr__(self):\n",
    "        return f\"Value(data={self.data})\"\n",
    "\n",
    "    def __neg__(self):\n",
    "        return self * -1\n",
    "        \n",
    "    def __add__(self,other):\n",
    "        other = other if isinstance(other, Value) else Value(other)\n",
    "        output = Value(self.data + other.data, (self, other), '+')\n",
    "        def _backward():\n",
    "            self.grad += 1.0 * output.grad\n",
    "            other.grad += 1.0 * output.grad\n",
    "        output._backward = _backward\n",
    "        return output\n",
    "        \n",
    "    def __sub__(self, other):\n",
    "        other = other if isinstance(other, Value) else Value(other)\n",
    "        output = Value(self.data - other.data, (self, other), '-')\n",
    "        \n",
    "        def _backward():\n",
    "            self.grad += 1.0 * output.grad\n",
    "            other.grad -= 1.0 * output.grad\n",
    "\n",
    "        output._backward = _backward\n",
    "        return output\n",
    " \n",
    "        \n",
    "    def __mul__(self, other):\n",
    "        other = other if isinstance(other, Value) else Value(other)\n",
    "        output = Value(self.data * other.data, (self, other),'*')\n",
    "        def _backward():\n",
    "            self.grad += other.data * output.grad\n",
    "            other.grad += self.data * output.grad\n",
    "        output._backward = _backward\n",
    "        return output\n",
    "\n",
    "    def exp(self):\n",
    "        x = self.data\n",
    "        output = Value(math.exp(x),(self,), 'exp')\n",
    "        def _backward():\n",
    "            self.grad += output.data * output.grad\n",
    "        output._backward = _backward        \n",
    "        return output\n",
    "\n",
    "    def __pow__(self,other):\n",
    "        assert isinstance(other,(int,float)), \"only supporting int/float powers for now\"\n",
    "        output = Value(self.data ** other, (self,), f'**{other}')\n",
    "        def _backward():\n",
    "            self.grad += other * (self.data ** (other - 1)) * output.grad\n",
    "        output._backward = _backward\n",
    "        return output\n",
    "        \n",
    "    def __rmul__(self,other):\n",
    "        return self * other\n",
    "\n",
    "    def __truediv__(self,other):\n",
    "        return self * other ** -1\n",
    "        \n",
    "    def tanh(self):\n",
    "        x = self.data\n",
    "        t = (math.exp(2*x) - 1)/(math.exp(2*x)+1)\n",
    "        output = Value(t, (self,), 'tanh')\n",
    "        def _backward():\n",
    "            self.grad += (1 - t**2) * output.grad\n",
    "        output._backward = _backward\n",
    "        return output\n",
    "        \n",
    "    def backward(self):\n",
    "        topo = []\n",
    "        visited = set()\n",
    "        def build_topo(v):\n",
    "            if v not in visited:\n",
    "                visited.add(v)\n",
    "                for child in v._prev:\n",
    "                    build_topo(child)\n",
    "                topo.append(v)\n",
    "        build_topo(self)\n",
    "        self.grad = 1.0\n",
    "        for node in reversed(topo):\n",
    "            node._backward()"
   ]
  },
  {
   "cell_type": "code",
   "execution_count": 5,
   "metadata": {},
   "outputs": [],
   "source": [
    "#forwarding a single neuron\n",
    "import random\n",
    "from math import tanh\n",
    "\n",
    "class Neuron:\n",
    "    def __init__(self, ninputs):#self is inputs\n",
    "        self.w = [Value(random.uniform(-1,1)) for _ in range(ninputs)] #take input that is between -1 and 1 wrt each input\n",
    "        self.b = Value(random.uniform(-1,1)) #controls the triggered happiness\n",
    "    def __call__(self,x):\n",
    "        #w*x + b\n",
    "        #Step1: pairwise multiplication of every element of w with x\n",
    "        act = sum((wi*xi for wi, xi in zip(self.w, x)), self.b) # by default the 2nd parameter of sum is 0.0 here we used bias\n",
    "        out = act.tanh()\n",
    "        return out\n",
    "\n",
    "    \n",
    "    # gather up all the paramters of neural network so that we can operate on all of them simultaneously\n",
    "    # everyone of them will be nudget based on the gradient info\n",
    "    def parameters(self):\n",
    "        return self.w + [self.b] # return parameter  as parameter scalars\n",
    "# a layer of neurons = set of neurons evaluated independently\n",
    "class Layer:\n",
    "    def __init__(self,ninputs,noutputs):\n",
    "        self.neurons = [Neuron(ninputs) for _ in range(noutputs)]\n",
    "    def __call__(self,x):\n",
    "        outputs = [neuron(x) for neuron in self.neurons]\n",
    "        return outputs[0] if len(outputs) == 1 else outputs\n",
    "    # def parameters(self):\n",
    "    #     params = []\n",
    "    #     for neurons in self.neurons:\n",
    "    #         ps = neuron.parameters()\n",
    "    #         params.extend(ps)\n",
    "    #         return params\n",
    "\n",
    "    #         OR\n",
    "    def parameters(self):\n",
    "        return [ p for neuron in self.neurons for p in neuron.parameters()]\n",
    "        \n",
    "\n",
    "#multilayer perceptron with each layer feeding other layer = MLP\n",
    "class MLP:\n",
    "    def __init__(self, ninputs,noutputs): #noutputs: list of sizes of each layer\n",
    "        sz = [ninputs] + noutputs\n",
    "        self.layers = [Layer(sz[i],sz[i+1]) for i in range(len(noutputs))]\n",
    "    def __call__(self,x):\n",
    "        for layer in self.layers:\n",
    "            x = layer(x)\n",
    "        return x     \n",
    "    def parameters(self):\n",
    "        return [ p for layer in self.layers for p in layer.parameters()]\n"
   ]
  },
  {
   "cell_type": "code",
   "execution_count": 6,
   "metadata": {},
   "outputs": [
    {
     "data": {
      "text/plain": [
       "Value(data=-0.02367516693743202)"
      ]
     },
     "execution_count": 6,
     "metadata": {},
     "output_type": "execute_result"
    }
   ],
   "source": [
    "x = [2.0,3.0,-1.0] # self\n",
    "n = MLP(3,[4,4,1]) #ninputs\n",
    "n(x) # triggers __call__ fn"
   ]
  },
  {
   "cell_type": "code",
   "execution_count": 7,
   "metadata": {},
   "outputs": [
    {
     "data": {
      "text/plain": [
       "[Value(data=-0.13145273673971247),\n",
       " Value(data=0.11113637027629375),\n",
       " Value(data=-0.6263733112821854),\n",
       " Value(data=-0.432306321521825),\n",
       " Value(data=0.8010869480117573),\n",
       " Value(data=-0.598469805898328),\n",
       " Value(data=0.259650372152217),\n",
       " Value(data=0.1384111248218869),\n",
       " Value(data=-0.8450837674967488),\n",
       " Value(data=0.14157382653023443),\n",
       " Value(data=0.8277179786030611),\n",
       " Value(data=0.4968600204640634),\n",
       " Value(data=0.17607716773849003),\n",
       " Value(data=-0.5418946173350732),\n",
       " Value(data=-0.2830898788202485),\n",
       " Value(data=-0.9722227728451576),\n",
       " Value(data=0.06730357598350767),\n",
       " Value(data=0.09327335741604936),\n",
       " Value(data=0.011429195370570744),\n",
       " Value(data=-0.6971687877900941),\n",
       " Value(data=-0.29572050188791565),\n",
       " Value(data=-0.49283880799179536),\n",
       " Value(data=-0.26492100272027064),\n",
       " Value(data=-0.30237208864249143),\n",
       " Value(data=-0.0003756788007343026),\n",
       " Value(data=0.1695036390276281),\n",
       " Value(data=-0.18213258220614303),\n",
       " Value(data=-0.6639055949089332),\n",
       " Value(data=-0.9431445419370017),\n",
       " Value(data=0.24909390273796173),\n",
       " Value(data=0.8357686346440079),\n",
       " Value(data=-0.8734637716243392),\n",
       " Value(data=-0.6218419745349308),\n",
       " Value(data=0.03545873217961759),\n",
       " Value(data=0.03865712782822062),\n",
       " Value(data=-0.7194240145293787),\n",
       " Value(data=0.11332031177701585),\n",
       " Value(data=-0.05454771996485075),\n",
       " Value(data=-0.5018497984296013),\n",
       " Value(data=-0.3155817411663533),\n",
       " Value(data=0.2087178929668878)]"
      ]
     },
     "execution_count": 7,
     "metadata": {},
     "output_type": "execute_result"
    }
   ],
   "source": [
    "n.parameters() # all the weights and biases in the entire  MLP"
   ]
  },
  {
   "cell_type": "code",
   "execution_count": 8,
   "metadata": {},
   "outputs": [],
   "source": [
    "#creating a tiny dataset\n",
    "xs = [\n",
    "    [2.0,3.0,-1.0],\n",
    "    [3.0,-1.0,0.5],\n",
    "    [0.5,1.0,1.0],\n",
    "    [1.0,1.0,-1.0]\n",
    "] # 4 possible inputs\n",
    "ys = [1.0,-1.0,-1.0,1.0] #desired targets 1.0 for  [2.0,3.0,-1.0]"
   ]
  },
  {
   "cell_type": "code",
   "execution_count": 9,
   "metadata": {},
   "outputs": [
    {
     "data": {
      "text/plain": [
       "[Value(data=-0.02367516693743202),\n",
       " Value(data=-0.08996538830748282),\n",
       " Value(data=0.3359775423109274),\n",
       " Value(data=0.028472846789608944)]"
      ]
     },
     "execution_count": 9,
     "metadata": {},
     "output_type": "execute_result"
    }
   ],
   "source": [
    "y_prediction = [n(x) for x in xs]\n",
    "y_prediction # these values are very different from what we want to achieve - targets"
   ]
  },
  {
   "cell_type": "code",
   "execution_count": 10,
   "metadata": {},
   "outputs": [
    {
     "data": {
      "text/plain": [
       "[Value(data=1.0479108474043792),\n",
       " Value(data=0.8281629944783506),\n",
       " Value(data=1.784835993559146),\n",
       " Value(data=0.9438650094250867)]"
      ]
     },
     "execution_count": 10,
     "metadata": {},
     "output_type": "execute_result"
    }
   ],
   "source": [
    "#tuning weights for better prediction of desired targets\n",
    "loss =[ (y_output - y_groundtruth)**2 for y_groundtruth, y_output in zip(ys,y_prediction)]\n",
    "loss # more we are far away from the target more will be the loss"
   ]
  },
  {
   "cell_type": "code",
   "execution_count": 11,
   "metadata": {},
   "outputs": [
    {
     "name": "stdout",
     "output_type": "stream",
     "text": [
      "Total loss: 4.604774844866963\n"
     ]
    }
   ],
   "source": [
    "loss = sum(((y_output - Value(y_groundtruth))**2 for y_groundtruth, y_output in zip(ys, y_prediction)), Value(0.0))\n",
    "print(\"Total loss:\", loss.data)\n"
   ]
  },
  {
   "cell_type": "code",
   "execution_count": 12,
   "metadata": {},
   "outputs": [],
   "source": [
    "# we need to tune the loss to be 0\n",
    "loss.backward()"
   ]
  },
  {
   "cell_type": "code",
   "execution_count": 13,
   "metadata": {},
   "outputs": [
    {
     "data": {
      "text/plain": [
       "-0.5055550609599222"
      ]
     },
     "execution_count": 13,
     "metadata": {},
     "output_type": "execute_result"
    }
   ],
   "source": [
    "n.layers[0].neurons[0].w[0].grad # weights have grad because of backward propogation\n",
    "# increasing slightly the weight of the particular neuron in the particular layer, makes the loss go down"
   ]
  },
  {
   "cell_type": "code",
   "execution_count": 14,
   "metadata": {},
   "outputs": [
    {
     "data": {
      "text/plain": [
       "-0.13145273673971247"
      ]
     },
     "execution_count": 14,
     "metadata": {},
     "output_type": "execute_result"
    }
   ],
   "source": [
    "n.layers[0].neurons[0].w[0].data #before"
   ]
  },
  {
   "cell_type": "code",
   "execution_count": 15,
   "metadata": {},
   "outputs": [],
   "source": [
    "for p in n.parameters():\n",
    "    p.data += -0.01 * p.grad #minimising the loss\n",
    "    #update in GD, vector pointing at the direction of increased loss +0.01 or decreased loss -0.01\n",
    "    # if the neurons grad value since negative, when applied cause the loss to decrease but with an increased data, loss increased\n",
    "    "
   ]
  },
  {
   "cell_type": "code",
   "execution_count": 16,
   "metadata": {},
   "outputs": [
    {
     "data": {
      "text/plain": [
       "-0.12639718613011325"
      ]
     },
     "execution_count": 16,
     "metadata": {},
     "output_type": "execute_result"
    }
   ],
   "source": [
    "n.layers[0].neurons[0].w[0].data # after grad has been improved to produce minimum loss\n"
   ]
  },
  {
   "cell_type": "code",
   "execution_count": 17,
   "metadata": {},
   "outputs": [
    {
     "name": "stdout",
     "output_type": "stream",
     "text": [
      "Total loss: 4.373114425039914\n"
     ]
    }
   ],
   "source": [
    "y_prediction = [n(x) for x in xs]\n",
    "loss = sum(((y_output - Value(y_groundtruth))**2 for y_groundtruth, y_output in zip(ys, y_prediction)), Value(0.0))\n",
    "print(\"Total loss:\", loss.data) # loss after the change\n",
    "#low loss means prediction matching the target"
   ]
  },
  {
   "cell_type": "code",
   "execution_count": 18,
   "metadata": {},
   "outputs": [
    {
     "data": {
      "text/plain": [
       "[Value(data=0.023606972849536632),\n",
       " Value(data=-0.0765536778736573),\n",
       " Value(data=0.30274093642829325),\n",
       " Value(data=0.06732426627625142)]"
      ]
     },
     "execution_count": 18,
     "metadata": {},
     "output_type": "execute_result"
    }
   ],
   "source": [
    "y_prediction"
   ]
  },
  {
   "cell_type": "code",
   "execution_count": null,
   "metadata": {},
   "outputs": [],
   "source": []
  }
 ],
 "metadata": {
  "kernelspec": {
   "display_name": "Python 3",
   "language": "python",
   "name": "python3"
  },
  "language_info": {
   "codemirror_mode": {
    "name": "ipython",
    "version": 3
   },
   "file_extension": ".py",
   "mimetype": "text/x-python",
   "name": "python",
   "nbconvert_exporter": "python",
   "pygments_lexer": "ipython3",
   "version": "3.11.7"
  }
 },
 "nbformat": 4,
 "nbformat_minor": 2
}
